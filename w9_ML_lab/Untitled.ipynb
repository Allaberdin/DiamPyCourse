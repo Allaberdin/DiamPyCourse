{
 "cells": [
  {
   "cell_type": "code",
   "execution_count": 1,
   "metadata": {},
   "outputs": [
    {
     "name": "stdout",
     "output_type": "stream",
     "text": [
      "Populating the interactive namespace from numpy and matplotlib\n"
     ]
    }
   ],
   "source": [
    "import numpy as np\n",
    "import pandas as pd\n",
    "%pylab inline"
   ]
  },
  {
   "cell_type": "code",
   "execution_count": 59,
   "metadata": {
    "collapsed": true
   },
   "outputs": [],
   "source": [
    "data = pd.read_csv(\"features.csv\", index_col=\"match_id\")"
   ]
  },
  {
   "cell_type": "code",
   "execution_count": 60,
   "metadata": {},
   "outputs": [
    {
     "data": {
      "text/html": [
       "<div>\n",
       "<style>\n",
       "    .dataframe thead tr:only-child th {\n",
       "        text-align: right;\n",
       "    }\n",
       "\n",
       "    .dataframe thead th {\n",
       "        text-align: left;\n",
       "    }\n",
       "\n",
       "    .dataframe tbody tr th {\n",
       "        vertical-align: top;\n",
       "    }\n",
       "</style>\n",
       "<table border=\"1\" class=\"dataframe\">\n",
       "  <thead>\n",
       "    <tr style=\"text-align: right;\">\n",
       "      <th></th>\n",
       "      <th>start_time</th>\n",
       "      <th>lobby_type</th>\n",
       "      <th>r1_hero</th>\n",
       "      <th>r1_level</th>\n",
       "      <th>r1_xp</th>\n",
       "      <th>r1_gold</th>\n",
       "      <th>r1_lh</th>\n",
       "      <th>r1_kills</th>\n",
       "      <th>r1_deaths</th>\n",
       "      <th>r1_items</th>\n",
       "      <th>...</th>\n",
       "      <th>dire_boots_count</th>\n",
       "      <th>dire_ward_observer_count</th>\n",
       "      <th>dire_ward_sentry_count</th>\n",
       "      <th>dire_first_ward_time</th>\n",
       "      <th>duration</th>\n",
       "      <th>radiant_win</th>\n",
       "      <th>tower_status_radiant</th>\n",
       "      <th>tower_status_dire</th>\n",
       "      <th>barracks_status_radiant</th>\n",
       "      <th>barracks_status_dire</th>\n",
       "    </tr>\n",
       "    <tr>\n",
       "      <th>match_id</th>\n",
       "      <th></th>\n",
       "      <th></th>\n",
       "      <th></th>\n",
       "      <th></th>\n",
       "      <th></th>\n",
       "      <th></th>\n",
       "      <th></th>\n",
       "      <th></th>\n",
       "      <th></th>\n",
       "      <th></th>\n",
       "      <th></th>\n",
       "      <th></th>\n",
       "      <th></th>\n",
       "      <th></th>\n",
       "      <th></th>\n",
       "      <th></th>\n",
       "      <th></th>\n",
       "      <th></th>\n",
       "      <th></th>\n",
       "      <th></th>\n",
       "      <th></th>\n",
       "    </tr>\n",
       "  </thead>\n",
       "  <tbody>\n",
       "    <tr>\n",
       "      <th>25370</th>\n",
       "      <td>1439816864</td>\n",
       "      <td>1</td>\n",
       "      <td>17</td>\n",
       "      <td>5</td>\n",
       "      <td>1982</td>\n",
       "      <td>2028</td>\n",
       "      <td>23</td>\n",
       "      <td>1</td>\n",
       "      <td>0</td>\n",
       "      <td>10</td>\n",
       "      <td>...</td>\n",
       "      <td>4</td>\n",
       "      <td>2</td>\n",
       "      <td>1</td>\n",
       "      <td>-43.0</td>\n",
       "      <td>2127</td>\n",
       "      <td>0</td>\n",
       "      <td>1792</td>\n",
       "      <td>2047</td>\n",
       "      <td>48</td>\n",
       "      <td>63</td>\n",
       "    </tr>\n",
       "    <tr>\n",
       "      <th>110977</th>\n",
       "      <td>1449941096</td>\n",
       "      <td>1</td>\n",
       "      <td>19</td>\n",
       "      <td>4</td>\n",
       "      <td>1611</td>\n",
       "      <td>1508</td>\n",
       "      <td>25</td>\n",
       "      <td>0</td>\n",
       "      <td>0</td>\n",
       "      <td>12</td>\n",
       "      <td>...</td>\n",
       "      <td>1</td>\n",
       "      <td>3</td>\n",
       "      <td>1</td>\n",
       "      <td>3.0</td>\n",
       "      <td>1027</td>\n",
       "      <td>1</td>\n",
       "      <td>2047</td>\n",
       "      <td>1846</td>\n",
       "      <td>63</td>\n",
       "      <td>63</td>\n",
       "    </tr>\n",
       "    <tr>\n",
       "      <th>44642</th>\n",
       "      <td>1444171135</td>\n",
       "      <td>7</td>\n",
       "      <td>39</td>\n",
       "      <td>5</td>\n",
       "      <td>2206</td>\n",
       "      <td>1974</td>\n",
       "      <td>18</td>\n",
       "      <td>2</td>\n",
       "      <td>0</td>\n",
       "      <td>7</td>\n",
       "      <td>...</td>\n",
       "      <td>2</td>\n",
       "      <td>3</td>\n",
       "      <td>0</td>\n",
       "      <td>170.0</td>\n",
       "      <td>2302</td>\n",
       "      <td>0</td>\n",
       "      <td>0</td>\n",
       "      <td>2038</td>\n",
       "      <td>0</td>\n",
       "      <td>63</td>\n",
       "    </tr>\n",
       "    <tr>\n",
       "      <th>62887</th>\n",
       "      <td>1446988281</td>\n",
       "      <td>1</td>\n",
       "      <td>112</td>\n",
       "      <td>2</td>\n",
       "      <td>397</td>\n",
       "      <td>535</td>\n",
       "      <td>1</td>\n",
       "      <td>1</td>\n",
       "      <td>0</td>\n",
       "      <td>8</td>\n",
       "      <td>...</td>\n",
       "      <td>6</td>\n",
       "      <td>2</td>\n",
       "      <td>1</td>\n",
       "      <td>-44.0</td>\n",
       "      <td>4454</td>\n",
       "      <td>1</td>\n",
       "      <td>1796</td>\n",
       "      <td>512</td>\n",
       "      <td>63</td>\n",
       "      <td>0</td>\n",
       "    </tr>\n",
       "    <tr>\n",
       "      <th>91705</th>\n",
       "      <td>1449129491</td>\n",
       "      <td>0</td>\n",
       "      <td>68</td>\n",
       "      <td>2</td>\n",
       "      <td>397</td>\n",
       "      <td>499</td>\n",
       "      <td>0</td>\n",
       "      <td>0</td>\n",
       "      <td>1</td>\n",
       "      <td>10</td>\n",
       "      <td>...</td>\n",
       "      <td>3</td>\n",
       "      <td>2</td>\n",
       "      <td>0</td>\n",
       "      <td>-39.0</td>\n",
       "      <td>2631</td>\n",
       "      <td>0</td>\n",
       "      <td>0</td>\n",
       "      <td>1974</td>\n",
       "      <td>0</td>\n",
       "      <td>63</td>\n",
       "    </tr>\n",
       "  </tbody>\n",
       "</table>\n",
       "<p>5 rows × 108 columns</p>\n",
       "</div>"
      ],
      "text/plain": [
       "          start_time  lobby_type  r1_hero  r1_level  r1_xp  r1_gold  r1_lh  \\\n",
       "match_id                                                                     \n",
       "25370     1439816864           1       17         5   1982     2028     23   \n",
       "110977    1449941096           1       19         4   1611     1508     25   \n",
       "44642     1444171135           7       39         5   2206     1974     18   \n",
       "62887     1446988281           1      112         2    397      535      1   \n",
       "91705     1449129491           0       68         2    397      499      0   \n",
       "\n",
       "          r1_kills  r1_deaths  r1_items          ...           \\\n",
       "match_id                                         ...            \n",
       "25370            1          0        10          ...            \n",
       "110977           0          0        12          ...            \n",
       "44642            2          0         7          ...            \n",
       "62887            1          0         8          ...            \n",
       "91705            0          1        10          ...            \n",
       "\n",
       "          dire_boots_count  dire_ward_observer_count  dire_ward_sentry_count  \\\n",
       "match_id                                                                       \n",
       "25370                    4                         2                       1   \n",
       "110977                   1                         3                       1   \n",
       "44642                    2                         3                       0   \n",
       "62887                    6                         2                       1   \n",
       "91705                    3                         2                       0   \n",
       "\n",
       "          dire_first_ward_time  duration  radiant_win  tower_status_radiant  \\\n",
       "match_id                                                                      \n",
       "25370                    -43.0      2127            0                  1792   \n",
       "110977                     3.0      1027            1                  2047   \n",
       "44642                    170.0      2302            0                     0   \n",
       "62887                    -44.0      4454            1                  1796   \n",
       "91705                    -39.0      2631            0                     0   \n",
       "\n",
       "          tower_status_dire  barracks_status_radiant  barracks_status_dire  \n",
       "match_id                                                                    \n",
       "25370                  2047                       48                    63  \n",
       "110977                 1846                       63                    63  \n",
       "44642                  2038                        0                    63  \n",
       "62887                   512                       63                     0  \n",
       "91705                  1974                        0                    63  \n",
       "\n",
       "[5 rows x 108 columns]"
      ]
     },
     "execution_count": 60,
     "metadata": {},
     "output_type": "execute_result"
    }
   ],
   "source": [
    "data.sample(5) # data.head()"
   ]
  },
  {
   "cell_type": "code",
   "execution_count": 61,
   "metadata": {},
   "outputs": [],
   "source": [
    "data = data.drop(['duration', 'tower_status_radiant',\n",
    " 'tower_status_dire',\n",
    " 'barracks_status_radiant',\n",
    " 'barracks_status_dire', \"start_time\"], axis = 1)"
   ]
  },
  {
   "cell_type": "code",
   "execution_count": 62,
   "metadata": {
    "scrolled": true
   },
   "outputs": [
    {
     "data": {
      "text/plain": [
       "['lobby_type',\n",
       " 'r1_hero',\n",
       " 'r1_level',\n",
       " 'r1_xp',\n",
       " 'r1_gold',\n",
       " 'r1_lh',\n",
       " 'r1_kills',\n",
       " 'r1_deaths',\n",
       " 'r1_items',\n",
       " 'r2_hero',\n",
       " 'r2_level',\n",
       " 'r2_xp',\n",
       " 'r2_gold',\n",
       " 'r2_lh',\n",
       " 'r2_kills',\n",
       " 'r2_deaths',\n",
       " 'r2_items',\n",
       " 'r3_hero',\n",
       " 'r3_level',\n",
       " 'r3_xp',\n",
       " 'r3_gold',\n",
       " 'r3_lh',\n",
       " 'r3_kills',\n",
       " 'r3_deaths',\n",
       " 'r3_items',\n",
       " 'r4_hero',\n",
       " 'r4_level',\n",
       " 'r4_xp',\n",
       " 'r4_gold',\n",
       " 'r4_lh',\n",
       " 'r4_kills',\n",
       " 'r4_deaths',\n",
       " 'r4_items',\n",
       " 'r5_hero',\n",
       " 'r5_level',\n",
       " 'r5_xp',\n",
       " 'r5_gold',\n",
       " 'r5_lh',\n",
       " 'r5_kills',\n",
       " 'r5_deaths',\n",
       " 'r5_items',\n",
       " 'd1_hero',\n",
       " 'd1_level',\n",
       " 'd1_xp',\n",
       " 'd1_gold',\n",
       " 'd1_lh',\n",
       " 'd1_kills',\n",
       " 'd1_deaths',\n",
       " 'd1_items',\n",
       " 'd2_hero',\n",
       " 'd2_level',\n",
       " 'd2_xp',\n",
       " 'd2_gold',\n",
       " 'd2_lh',\n",
       " 'd2_kills',\n",
       " 'd2_deaths',\n",
       " 'd2_items',\n",
       " 'd3_hero',\n",
       " 'd3_level',\n",
       " 'd3_xp',\n",
       " 'd3_gold',\n",
       " 'd3_lh',\n",
       " 'd3_kills',\n",
       " 'd3_deaths',\n",
       " 'd3_items',\n",
       " 'd4_hero',\n",
       " 'd4_level',\n",
       " 'd4_xp',\n",
       " 'd4_gold',\n",
       " 'd4_lh',\n",
       " 'd4_kills',\n",
       " 'd4_deaths',\n",
       " 'd4_items',\n",
       " 'd5_hero',\n",
       " 'd5_level',\n",
       " 'd5_xp',\n",
       " 'd5_gold',\n",
       " 'd5_lh',\n",
       " 'd5_kills',\n",
       " 'd5_deaths',\n",
       " 'd5_items',\n",
       " 'first_blood_time',\n",
       " 'first_blood_team',\n",
       " 'first_blood_player1',\n",
       " 'first_blood_player2',\n",
       " 'radiant_bottle_time',\n",
       " 'radiant_courier_time',\n",
       " 'radiant_flying_courier_time',\n",
       " 'radiant_tpscroll_count',\n",
       " 'radiant_boots_count',\n",
       " 'radiant_ward_observer_count',\n",
       " 'radiant_ward_sentry_count',\n",
       " 'radiant_first_ward_time',\n",
       " 'dire_bottle_time',\n",
       " 'dire_courier_time',\n",
       " 'dire_flying_courier_time',\n",
       " 'dire_tpscroll_count',\n",
       " 'dire_boots_count',\n",
       " 'dire_ward_observer_count',\n",
       " 'dire_ward_sentry_count',\n",
       " 'dire_first_ward_time',\n",
       " 'radiant_win']"
      ]
     },
     "execution_count": 62,
     "metadata": {},
     "output_type": "execute_result"
    }
   ],
   "source": [
    "list(data.columns)"
   ]
  },
  {
   "cell_type": "code",
   "execution_count": 63,
   "metadata": {
    "collapsed": true
   },
   "outputs": [],
   "source": [
    "data = data.fillna(0)"
   ]
  },
  {
   "cell_type": "code",
   "execution_count": 64,
   "metadata": {},
   "outputs": [],
   "source": [
    "X, y = data.drop('radiant_win', axis = 1), data[\"radiant_win\"]"
   ]
  },
  {
   "cell_type": "code",
   "execution_count": 65,
   "metadata": {},
   "outputs": [],
   "source": [
    "from sklearn.ensemble import RandomForestClassifier\n",
    "from sklearn.model_selection import train_test_split\n",
    "from sklearn.metrics import roc_auc_score"
   ]
  },
  {
   "cell_type": "code",
   "execution_count": 195,
   "metadata": {
    "collapsed": true
   },
   "outputs": [],
   "source": [
    "X_train_r, X_test_r, y_train_r, y_test_r = train_test_split(X, y,\n",
    "                                                   shuffle=True,\n",
    "                                                   stratify=y)"
   ]
  },
  {
   "cell_type": "code",
   "execution_count": 67,
   "metadata": {
    "collapsed": true
   },
   "outputs": [],
   "source": [
    "model = RandomForestClassifier(n_estimators=100, n_jobs = 4)"
   ]
  },
  {
   "cell_type": "code",
   "execution_count": 68,
   "metadata": {
    "scrolled": false
   },
   "outputs": [
    {
     "name": "stdout",
     "output_type": "stream",
     "text": [
      "Wall time: 31.5 s\n"
     ]
    },
    {
     "data": {
      "text/plain": [
       "RandomForestClassifier(bootstrap=True, class_weight=None, criterion='gini',\n",
       "            max_depth=None, max_features='auto', max_leaf_nodes=None,\n",
       "            min_impurity_decrease=0.0, min_impurity_split=None,\n",
       "            min_samples_leaf=1, min_samples_split=2,\n",
       "            min_weight_fraction_leaf=0.0, n_estimators=100, n_jobs=4,\n",
       "            oob_score=False, random_state=None, verbose=0,\n",
       "            warm_start=False)"
      ]
     },
     "execution_count": 68,
     "metadata": {},
     "output_type": "execute_result"
    }
   ],
   "source": [
    "%%time\n",
    "model.fit(X_train, y_train)"
   ]
  },
  {
   "cell_type": "code",
   "execution_count": 69,
   "metadata": {},
   "outputs": [
    {
     "data": {
      "text/plain": [
       "0.69126682474810275"
      ]
     },
     "execution_count": 69,
     "metadata": {},
     "output_type": "execute_result"
    }
   ],
   "source": [
    "ans = model.predict_proba(X_test)[:, 1]\n",
    "roc_auc_score(y_test, ans)"
   ]
  },
  {
   "cell_type": "code",
   "execution_count": null,
   "metadata": {
    "collapsed": true
   },
   "outputs": [],
   "source": []
  },
  {
   "cell_type": "code",
   "execution_count": 70,
   "metadata": {},
   "outputs": [
    {
     "data": {
      "text/plain": [
       "0.5184992183428869"
      ]
     },
     "execution_count": 70,
     "metadata": {},
     "output_type": "execute_result"
    }
   ],
   "source": [
    "np.mean(y_train)"
   ]
  },
  {
   "cell_type": "code",
   "execution_count": 71,
   "metadata": {},
   "outputs": [
    {
     "data": {
      "text/plain": [
       "['lobby_type',\n",
       " 'first_blood_player1',\n",
       " 'first_blood_player2',\n",
       " 'r1_hero',\n",
       " 'r2_hero',\n",
       " 'r3_hero',\n",
       " 'r4_hero',\n",
       " 'r5_hero',\n",
       " 'd1_hero',\n",
       " 'd2_hero',\n",
       " 'd3_hero',\n",
       " 'd4_hero',\n",
       " 'd5_hero']"
      ]
     },
     "execution_count": 71,
     "metadata": {},
     "output_type": "execute_result"
    }
   ],
   "source": [
    "categorial = [\n",
    "    'lobby_type',\n",
    "    'first_blood_player1',\n",
    "    'first_blood_player2',\n",
    "] + list(filter(lambda x: \"hero\" in x, data.columns))\n",
    "categorial"
   ]
  },
  {
   "cell_type": "code",
   "execution_count": 117,
   "metadata": {
    "collapsed": true
   },
   "outputs": [],
   "source": [
    "X_train_num = X_train.drop(categorial, axis = 1)\n",
    "X_train_cat = X_train[categorial]"
   ]
  },
  {
   "cell_type": "code",
   "execution_count": 118,
   "metadata": {},
   "outputs": [],
   "source": [
    "X_test_num = X_test.drop(categorial, axis = 1)\n",
    "X_test_cat = X_test[categorial]"
   ]
  },
  {
   "cell_type": "code",
   "execution_count": null,
   "metadata": {
    "collapsed": true
   },
   "outputs": [],
   "source": []
  },
  {
   "cell_type": "code",
   "execution_count": 75,
   "metadata": {
    "collapsed": true
   },
   "outputs": [],
   "source": [
    "model = RandomForestClassifier(n_estimators=100, n_jobs = 4)"
   ]
  },
  {
   "cell_type": "code",
   "execution_count": 76,
   "metadata": {
    "scrolled": false
   },
   "outputs": [
    {
     "name": "stdout",
     "output_type": "stream",
     "text": [
      "Wall time: 26.9 s\n"
     ]
    },
    {
     "data": {
      "text/plain": [
       "RandomForestClassifier(bootstrap=True, class_weight=None, criterion='gini',\n",
       "            max_depth=None, max_features='auto', max_leaf_nodes=None,\n",
       "            min_impurity_decrease=0.0, min_impurity_split=None,\n",
       "            min_samples_leaf=1, min_samples_split=2,\n",
       "            min_weight_fraction_leaf=0.0, n_estimators=100, n_jobs=4,\n",
       "            oob_score=False, random_state=None, verbose=0,\n",
       "            warm_start=False)"
      ]
     },
     "execution_count": 76,
     "metadata": {},
     "output_type": "execute_result"
    }
   ],
   "source": [
    "%%time\n",
    "model.fit(X_train_num, y_train)"
   ]
  },
  {
   "cell_type": "code",
   "execution_count": 77,
   "metadata": {},
   "outputs": [
    {
     "data": {
      "text/plain": [
       "0.69143953679277681"
      ]
     },
     "execution_count": 77,
     "metadata": {},
     "output_type": "execute_result"
    }
   ],
   "source": [
    "ans = model.predict_proba(X_test_num)[:, 1]\n",
    "roc_auc_score(y_test, ans)"
   ]
  },
  {
   "cell_type": "code",
   "execution_count": null,
   "metadata": {
    "collapsed": true
   },
   "outputs": [],
   "source": []
  },
  {
   "cell_type": "code",
   "execution_count": 78,
   "metadata": {
    "collapsed": true
   },
   "outputs": [],
   "source": [
    "from sklearn.linear_model import LogisticRegression"
   ]
  },
  {
   "cell_type": "code",
   "execution_count": 79,
   "metadata": {
    "collapsed": true
   },
   "outputs": [],
   "source": [
    "model = LogisticRegression(C=10)"
   ]
  },
  {
   "cell_type": "code",
   "execution_count": 80,
   "metadata": {
    "scrolled": false
   },
   "outputs": [
    {
     "name": "stdout",
     "output_type": "stream",
     "text": [
      "Wall time: 36.5 s\n"
     ]
    },
    {
     "data": {
      "text/plain": [
       "LogisticRegression(C=10, class_weight=None, dual=False, fit_intercept=True,\n",
       "          intercept_scaling=1, max_iter=100, multi_class='ovr', n_jobs=1,\n",
       "          penalty='l2', random_state=None, solver='liblinear', tol=0.0001,\n",
       "          verbose=0, warm_start=False)"
      ]
     },
     "execution_count": 80,
     "metadata": {},
     "output_type": "execute_result"
    }
   ],
   "source": [
    "%%time\n",
    "model.fit(X_train_num, y_train)"
   ]
  },
  {
   "cell_type": "code",
   "execution_count": 81,
   "metadata": {},
   "outputs": [
    {
     "data": {
      "text/plain": [
       "0.71436169185839304"
      ]
     },
     "execution_count": 81,
     "metadata": {},
     "output_type": "execute_result"
    }
   ],
   "source": [
    "ans = model.predict_proba(X_test_num)[:, 1]\n",
    "roc_auc_score(y_test, ans)"
   ]
  },
  {
   "cell_type": "code",
   "execution_count": null,
   "metadata": {
    "collapsed": true
   },
   "outputs": [],
   "source": []
  },
  {
   "cell_type": "code",
   "execution_count": 119,
   "metadata": {},
   "outputs": [
    {
     "data": {
      "text/html": [
       "<div>\n",
       "<style>\n",
       "    .dataframe thead tr:only-child th {\n",
       "        text-align: right;\n",
       "    }\n",
       "\n",
       "    .dataframe thead th {\n",
       "        text-align: left;\n",
       "    }\n",
       "\n",
       "    .dataframe tbody tr th {\n",
       "        vertical-align: top;\n",
       "    }\n",
       "</style>\n",
       "<table border=\"1\" class=\"dataframe\">\n",
       "  <thead>\n",
       "    <tr style=\"text-align: right;\">\n",
       "      <th></th>\n",
       "      <th>lobby_type</th>\n",
       "      <th>first_blood_player1</th>\n",
       "      <th>first_blood_player2</th>\n",
       "      <th>r1_hero</th>\n",
       "      <th>r2_hero</th>\n",
       "      <th>r3_hero</th>\n",
       "      <th>r4_hero</th>\n",
       "      <th>r5_hero</th>\n",
       "      <th>d1_hero</th>\n",
       "      <th>d2_hero</th>\n",
       "      <th>d3_hero</th>\n",
       "      <th>d4_hero</th>\n",
       "      <th>d5_hero</th>\n",
       "    </tr>\n",
       "    <tr>\n",
       "      <th>match_id</th>\n",
       "      <th></th>\n",
       "      <th></th>\n",
       "      <th></th>\n",
       "      <th></th>\n",
       "      <th></th>\n",
       "      <th></th>\n",
       "      <th></th>\n",
       "      <th></th>\n",
       "      <th></th>\n",
       "      <th></th>\n",
       "      <th></th>\n",
       "      <th></th>\n",
       "      <th></th>\n",
       "    </tr>\n",
       "  </thead>\n",
       "  <tbody>\n",
       "    <tr>\n",
       "      <th>109057</th>\n",
       "      <td>1</td>\n",
       "      <td>4.0</td>\n",
       "      <td>5.0</td>\n",
       "      <td>60</td>\n",
       "      <td>11</td>\n",
       "      <td>55</td>\n",
       "      <td>42</td>\n",
       "      <td>112</td>\n",
       "      <td>50</td>\n",
       "      <td>20</td>\n",
       "      <td>72</td>\n",
       "      <td>28</td>\n",
       "      <td>47</td>\n",
       "    </tr>\n",
       "    <tr>\n",
       "      <th>39395</th>\n",
       "      <td>7</td>\n",
       "      <td>0.0</td>\n",
       "      <td>0.0</td>\n",
       "      <td>40</td>\n",
       "      <td>69</td>\n",
       "      <td>22</td>\n",
       "      <td>85</td>\n",
       "      <td>12</td>\n",
       "      <td>36</td>\n",
       "      <td>57</td>\n",
       "      <td>8</td>\n",
       "      <td>26</td>\n",
       "      <td>71</td>\n",
       "    </tr>\n",
       "    <tr>\n",
       "      <th>78349</th>\n",
       "      <td>1</td>\n",
       "      <td>0.0</td>\n",
       "      <td>7.0</td>\n",
       "      <td>11</td>\n",
       "      <td>67</td>\n",
       "      <td>7</td>\n",
       "      <td>51</td>\n",
       "      <td>25</td>\n",
       "      <td>86</td>\n",
       "      <td>112</td>\n",
       "      <td>21</td>\n",
       "      <td>72</td>\n",
       "      <td>100</td>\n",
       "    </tr>\n",
       "    <tr>\n",
       "      <th>55050</th>\n",
       "      <td>0</td>\n",
       "      <td>8.0</td>\n",
       "      <td>4.0</td>\n",
       "      <td>39</td>\n",
       "      <td>71</td>\n",
       "      <td>57</td>\n",
       "      <td>112</td>\n",
       "      <td>28</td>\n",
       "      <td>86</td>\n",
       "      <td>73</td>\n",
       "      <td>11</td>\n",
       "      <td>7</td>\n",
       "      <td>97</td>\n",
       "    </tr>\n",
       "    <tr>\n",
       "      <th>40693</th>\n",
       "      <td>7</td>\n",
       "      <td>0.0</td>\n",
       "      <td>0.0</td>\n",
       "      <td>21</td>\n",
       "      <td>89</td>\n",
       "      <td>17</td>\n",
       "      <td>26</td>\n",
       "      <td>97</td>\n",
       "      <td>69</td>\n",
       "      <td>74</td>\n",
       "      <td>48</td>\n",
       "      <td>31</td>\n",
       "      <td>84</td>\n",
       "    </tr>\n",
       "  </tbody>\n",
       "</table>\n",
       "</div>"
      ],
      "text/plain": [
       "          lobby_type  first_blood_player1  first_blood_player2  r1_hero  \\\n",
       "match_id                                                                  \n",
       "109057             1                  4.0                  5.0       60   \n",
       "39395              7                  0.0                  0.0       40   \n",
       "78349              1                  0.0                  7.0       11   \n",
       "55050              0                  8.0                  4.0       39   \n",
       "40693              7                  0.0                  0.0       21   \n",
       "\n",
       "          r2_hero  r3_hero  r4_hero  r5_hero  d1_hero  d2_hero  d3_hero  \\\n",
       "match_id                                                                  \n",
       "109057         11       55       42      112       50       20       72   \n",
       "39395          69       22       85       12       36       57        8   \n",
       "78349          67        7       51       25       86      112       21   \n",
       "55050          71       57      112       28       86       73       11   \n",
       "40693          89       17       26       97       69       74       48   \n",
       "\n",
       "          d4_hero  d5_hero  \n",
       "match_id                    \n",
       "109057         28       47  \n",
       "39395          26       71  \n",
       "78349          72      100  \n",
       "55050           7       97  \n",
       "40693          31       84  "
      ]
     },
     "execution_count": 119,
     "metadata": {},
     "output_type": "execute_result"
    }
   ],
   "source": [
    "X_train_cat.sample(5)"
   ]
  },
  {
   "cell_type": "code",
   "execution_count": 120,
   "metadata": {},
   "outputs": [
    {
     "data": {
      "text/plain": [
       "array([7, 0, 1], dtype=int64)"
      ]
     },
     "execution_count": 120,
     "metadata": {},
     "output_type": "execute_result"
    }
   ],
   "source": [
    "X_train_cat.lobby_type.unique()"
   ]
  },
  {
   "cell_type": "code",
   "execution_count": 121,
   "metadata": {},
   "outputs": [
    {
     "name": "stderr",
     "output_type": "stream",
     "text": [
      "C:\\ProgramData\\Anaconda3\\lib\\site-packages\\ipykernel_launcher.py:2: SettingWithCopyWarning: \n",
      "A value is trying to be set on a copy of a slice from a DataFrame.\n",
      "Try using .loc[row_indexer,col_indexer] = value instead\n",
      "\n",
      "See the caveats in the documentation: http://pandas.pydata.org/pandas-docs/stable/indexing.html#indexing-view-versus-copy\n",
      "  \n",
      "C:\\ProgramData\\Anaconda3\\lib\\site-packages\\ipykernel_launcher.py:3: SettingWithCopyWarning: \n",
      "A value is trying to be set on a copy of a slice from a DataFrame.\n",
      "Try using .loc[row_indexer,col_indexer] = value instead\n",
      "\n",
      "See the caveats in the documentation: http://pandas.pydata.org/pandas-docs/stable/indexing.html#indexing-view-versus-copy\n",
      "  This is separate from the ipykernel package so we can avoid doing imports until\n"
     ]
    }
   ],
   "source": [
    "for i in X_train_cat.lobby_type.unique():\n",
    "    X_train_cat[f\"type_{i}\"] = X_train_cat[\"lobby_type\"].apply(lambda x: x==i).astype(int)\n",
    "    X_test_cat[f\"type_{i}\"] = X_test_cat[\"lobby_type\"].apply(lambda x: x==i).astype(int)\n",
    "X_train_cat = X_train_cat.drop(\"lobby_type\", axis = 1)\n",
    "X_test_cat = X_test_cat.drop(\"lobby_type\", axis = 1)\n"
   ]
  },
  {
   "cell_type": "code",
   "execution_count": 122,
   "metadata": {},
   "outputs": [
    {
     "data": {
      "text/html": [
       "<div>\n",
       "<style>\n",
       "    .dataframe thead tr:only-child th {\n",
       "        text-align: right;\n",
       "    }\n",
       "\n",
       "    .dataframe thead th {\n",
       "        text-align: left;\n",
       "    }\n",
       "\n",
       "    .dataframe tbody tr th {\n",
       "        vertical-align: top;\n",
       "    }\n",
       "</style>\n",
       "<table border=\"1\" class=\"dataframe\">\n",
       "  <thead>\n",
       "    <tr style=\"text-align: right;\">\n",
       "      <th></th>\n",
       "      <th>first_blood_player1</th>\n",
       "      <th>first_blood_player2</th>\n",
       "      <th>r1_hero</th>\n",
       "      <th>r2_hero</th>\n",
       "      <th>r3_hero</th>\n",
       "      <th>r4_hero</th>\n",
       "      <th>r5_hero</th>\n",
       "      <th>d1_hero</th>\n",
       "      <th>d2_hero</th>\n",
       "      <th>d3_hero</th>\n",
       "      <th>d4_hero</th>\n",
       "      <th>d5_hero</th>\n",
       "      <th>type_7</th>\n",
       "      <th>type_0</th>\n",
       "      <th>type_1</th>\n",
       "    </tr>\n",
       "    <tr>\n",
       "      <th>match_id</th>\n",
       "      <th></th>\n",
       "      <th></th>\n",
       "      <th></th>\n",
       "      <th></th>\n",
       "      <th></th>\n",
       "      <th></th>\n",
       "      <th></th>\n",
       "      <th></th>\n",
       "      <th></th>\n",
       "      <th></th>\n",
       "      <th></th>\n",
       "      <th></th>\n",
       "      <th></th>\n",
       "      <th></th>\n",
       "      <th></th>\n",
       "    </tr>\n",
       "  </thead>\n",
       "  <tbody>\n",
       "    <tr>\n",
       "      <th>86499</th>\n",
       "      <td>1.0</td>\n",
       "      <td>5.0</td>\n",
       "      <td>50</td>\n",
       "      <td>39</td>\n",
       "      <td>7</td>\n",
       "      <td>59</td>\n",
       "      <td>72</td>\n",
       "      <td>11</td>\n",
       "      <td>8</td>\n",
       "      <td>87</td>\n",
       "      <td>55</td>\n",
       "      <td>30</td>\n",
       "      <td>0</td>\n",
       "      <td>0</td>\n",
       "      <td>1</td>\n",
       "    </tr>\n",
       "    <tr>\n",
       "      <th>86377</th>\n",
       "      <td>9.0</td>\n",
       "      <td>0.0</td>\n",
       "      <td>72</td>\n",
       "      <td>68</td>\n",
       "      <td>55</td>\n",
       "      <td>74</td>\n",
       "      <td>60</td>\n",
       "      <td>11</td>\n",
       "      <td>87</td>\n",
       "      <td>106</td>\n",
       "      <td>112</td>\n",
       "      <td>21</td>\n",
       "      <td>0</td>\n",
       "      <td>0</td>\n",
       "      <td>1</td>\n",
       "    </tr>\n",
       "    <tr>\n",
       "      <th>46411</th>\n",
       "      <td>0.0</td>\n",
       "      <td>0.0</td>\n",
       "      <td>28</td>\n",
       "      <td>51</td>\n",
       "      <td>50</td>\n",
       "      <td>7</td>\n",
       "      <td>11</td>\n",
       "      <td>68</td>\n",
       "      <td>103</td>\n",
       "      <td>60</td>\n",
       "      <td>86</td>\n",
       "      <td>69</td>\n",
       "      <td>0</td>\n",
       "      <td>0</td>\n",
       "      <td>1</td>\n",
       "    </tr>\n",
       "    <tr>\n",
       "      <th>20855</th>\n",
       "      <td>5.0</td>\n",
       "      <td>0.0</td>\n",
       "      <td>11</td>\n",
       "      <td>99</td>\n",
       "      <td>17</td>\n",
       "      <td>91</td>\n",
       "      <td>7</td>\n",
       "      <td>72</td>\n",
       "      <td>25</td>\n",
       "      <td>88</td>\n",
       "      <td>71</td>\n",
       "      <td>33</td>\n",
       "      <td>1</td>\n",
       "      <td>0</td>\n",
       "      <td>0</td>\n",
       "    </tr>\n",
       "    <tr>\n",
       "      <th>83441</th>\n",
       "      <td>0.0</td>\n",
       "      <td>0.0</td>\n",
       "      <td>71</td>\n",
       "      <td>8</td>\n",
       "      <td>50</td>\n",
       "      <td>90</td>\n",
       "      <td>39</td>\n",
       "      <td>11</td>\n",
       "      <td>30</td>\n",
       "      <td>85</td>\n",
       "      <td>47</td>\n",
       "      <td>112</td>\n",
       "      <td>0</td>\n",
       "      <td>0</td>\n",
       "      <td>1</td>\n",
       "    </tr>\n",
       "  </tbody>\n",
       "</table>\n",
       "</div>"
      ],
      "text/plain": [
       "          first_blood_player1  first_blood_player2  r1_hero  r2_hero  r3_hero  \\\n",
       "match_id                                                                        \n",
       "86499                     1.0                  5.0       50       39        7   \n",
       "86377                     9.0                  0.0       72       68       55   \n",
       "46411                     0.0                  0.0       28       51       50   \n",
       "20855                     5.0                  0.0       11       99       17   \n",
       "83441                     0.0                  0.0       71        8       50   \n",
       "\n",
       "          r4_hero  r5_hero  d1_hero  d2_hero  d3_hero  d4_hero  d5_hero  \\\n",
       "match_id                                                                  \n",
       "86499          59       72       11        8       87       55       30   \n",
       "86377          74       60       11       87      106      112       21   \n",
       "46411           7       11       68      103       60       86       69   \n",
       "20855          91        7       72       25       88       71       33   \n",
       "83441          90       39       11       30       85       47      112   \n",
       "\n",
       "          type_7  type_0  type_1  \n",
       "match_id                          \n",
       "86499          0       0       1  \n",
       "86377          0       0       1  \n",
       "46411          0       0       1  \n",
       "20855          1       0       0  \n",
       "83441          0       0       1  "
      ]
     },
     "execution_count": 122,
     "metadata": {},
     "output_type": "execute_result"
    }
   ],
   "source": [
    "X_train_cat.sample(5)"
   ]
  },
  {
   "cell_type": "code",
   "execution_count": 123,
   "metadata": {
    "collapsed": true
   },
   "outputs": [],
   "source": [
    "from sklearn.preprocessing import OneHotEncoder"
   ]
  },
  {
   "cell_type": "code",
   "execution_count": 124,
   "metadata": {},
   "outputs": [
    {
     "name": "stderr",
     "output_type": "stream",
     "text": [
      "C:\\ProgramData\\Anaconda3\\lib\\site-packages\\ipykernel_launcher.py:2: FutureWarning: reshape is deprecated and will raise in a subsequent release. Please use .values.reshape(...) instead\n",
      "  \n",
      "C:\\ProgramData\\Anaconda3\\lib\\site-packages\\ipykernel_launcher.py:3: FutureWarning: reshape is deprecated and will raise in a subsequent release. Please use .values.reshape(...) instead\n",
      "  This is separate from the ipykernel package so we can avoid doing imports until\n",
      "C:\\ProgramData\\Anaconda3\\lib\\site-packages\\ipykernel_launcher.py:5: FutureWarning: reshape is deprecated and will raise in a subsequent release. Please use .values.reshape(...) instead\n",
      "  \"\"\"\n",
      "C:\\ProgramData\\Anaconda3\\lib\\site-packages\\ipykernel_launcher.py:6: FutureWarning: reshape is deprecated and will raise in a subsequent release. Please use .values.reshape(...) instead\n",
      "  \n"
     ]
    }
   ],
   "source": [
    "ohe = OneHotEncoder(sparse=False)\n",
    "fbp_train = ohe.fit_transform(X_train_cat[\"first_blood_player1\"].reshape((-1,1)))\n",
    "fbp_test = ohe.transform(X_test_cat[\"first_blood_player1\"].reshape((-1,1)))\n",
    "\n",
    "fbp_train -= ohe.transform(X_train_cat[\"first_blood_player2\"].reshape((-1,1)))\n",
    "fbp_test -= ohe.transform(X_test_cat[\"first_blood_player2\"].reshape((-1,1)))"
   ]
  },
  {
   "cell_type": "code",
   "execution_count": 125,
   "metadata": {},
   "outputs": [],
   "source": [
    "X_train_cat = X_train_cat.reset_index()\n",
    "df_fbp_train = pd.DataFrame(fbp_train)\n",
    "df_fbp_train[\"match_id\"] = X_train_cat[\"match_id\"]"
   ]
  },
  {
   "cell_type": "code",
   "execution_count": 129,
   "metadata": {},
   "outputs": [],
   "source": [
    "X_train_cat = pd.merge(X_train_cat, df_fbp_train, on=\"match_id\")"
   ]
  },
  {
   "cell_type": "code",
   "execution_count": 130,
   "metadata": {
    "collapsed": true
   },
   "outputs": [],
   "source": [
    "X_train_cat = X_train_cat.drop([\"first_blood_player2\",\"first_blood_player1\"], axis = 1)"
   ]
  },
  {
   "cell_type": "code",
   "execution_count": 132,
   "metadata": {
    "collapsed": true
   },
   "outputs": [],
   "source": [
    "X_test_cat = X_test_cat.reset_index()\n",
    "df_fbp_test = pd.DataFrame(fbp_test)\n",
    "df_fbp_test[\"match_id\"] = X_test_cat[\"match_id\"]"
   ]
  },
  {
   "cell_type": "code",
   "execution_count": 133,
   "metadata": {
    "collapsed": true
   },
   "outputs": [],
   "source": [
    "X_test_cat = pd.merge(X_test_cat, df_fbp_test, on=\"match_id\")"
   ]
  },
  {
   "cell_type": "code",
   "execution_count": 134,
   "metadata": {
    "collapsed": true
   },
   "outputs": [],
   "source": [
    "X_test_cat = X_test_cat.drop([\"first_blood_player2\",\"first_blood_player1\"], axis = 1)"
   ]
  },
  {
   "cell_type": "code",
   "execution_count": null,
   "metadata": {
    "collapsed": true
   },
   "outputs": [],
   "source": []
  },
  {
   "cell_type": "code",
   "execution_count": 139,
   "metadata": {
    "scrolled": false
   },
   "outputs": [],
   "source": [
    "heroes = pd.read_csv(\"heroes.csv\")"
   ]
  },
  {
   "cell_type": "code",
   "execution_count": 153,
   "metadata": {},
   "outputs": [],
   "source": [
    "heroes_ohe = OneHotEncoder(n_values=114, sparse=False)"
   ]
  },
  {
   "cell_type": "code",
   "execution_count": 179,
   "metadata": {},
   "outputs": [
    {
     "name": "stderr",
     "output_type": "stream",
     "text": [
      "C:\\ProgramData\\Anaconda3\\lib\\site-packages\\ipykernel_launcher.py:1: FutureWarning: reshape is deprecated and will raise in a subsequent release. Please use .values.reshape(...) instead\n",
      "  \"\"\"Entry point for launching an IPython kernel.\n"
     ]
    }
   ],
   "source": [
    "heroes = heroes_ohe.transform(X_test_cat.r1_hero.reshape((-1,1)))"
   ]
  },
  {
   "cell_type": "code",
   "execution_count": 180,
   "metadata": {
    "scrolled": true
   },
   "outputs": [
    {
     "name": "stderr",
     "output_type": "stream",
     "text": [
      "C:\\ProgramData\\Anaconda3\\lib\\site-packages\\ipykernel_launcher.py:4: FutureWarning: reshape is deprecated and will raise in a subsequent release. Please use .values.reshape(...) instead\n",
      "  after removing the cwd from sys.path.\n",
      "C:\\ProgramData\\Anaconda3\\lib\\site-packages\\ipykernel_launcher.py:5: FutureWarning: reshape is deprecated and will raise in a subsequent release. Please use .values.reshape(...) instead\n",
      "  \"\"\"\n"
     ]
    }
   ],
   "source": [
    "heroes = np.zeros_like(heroes)\n",
    "\n",
    "for i in range(1,6):\n",
    "    heroes += heroes_ohe.transform(X_test_cat[f'r{i}_hero'].reshape((-1,1)))\n",
    "    heroes -= heroes_ohe.transform(X_test_cat[f'd{i}_hero'].reshape((-1,1)))"
   ]
  },
  {
   "cell_type": "code",
   "execution_count": null,
   "metadata": {
    "collapsed": true
   },
   "outputs": [],
   "source": []
  },
  {
   "cell_type": "code",
   "execution_count": 182,
   "metadata": {
    "collapsed": true
   },
   "outputs": [],
   "source": [
    "df_hero_test = pd.DataFrame(heroes)\n",
    "df_hero_test[\"match_id\"] = X_test_cat[\"match_id\"]"
   ]
  },
  {
   "cell_type": "code",
   "execution_count": 183,
   "metadata": {},
   "outputs": [],
   "source": [
    "X_test_cat = pd.merge(X_test_cat, df_hero_test, on=\"match_id\")"
   ]
  },
  {
   "cell_type": "code",
   "execution_count": 184,
   "metadata": {},
   "outputs": [],
   "source": [
    "X_test_cat = X_test_cat.drop(list(filter(lambda x: \"hero\" in x, data.columns)), axis = 1)"
   ]
  },
  {
   "cell_type": "code",
   "execution_count": 190,
   "metadata": {},
   "outputs": [],
   "source": [
    "X_test_num = X_test_num.reset_index()\n",
    "X_test = pd.merge(X_test_num, X_test_cat, on=\"match_id\")"
   ]
  },
  {
   "cell_type": "code",
   "execution_count": 189,
   "metadata": {},
   "outputs": [],
   "source": [
    "X_train = pd.merge(X_train_num, X_train_cat, on=\"match_id\")"
   ]
  },
  {
   "cell_type": "code",
   "execution_count": null,
   "metadata": {
    "collapsed": true
   },
   "outputs": [],
   "source": []
  },
  {
   "cell_type": "code",
   "execution_count": 191,
   "metadata": {
    "collapsed": true
   },
   "outputs": [],
   "source": [
    "model = LogisticRegression(C=10)"
   ]
  },
  {
   "cell_type": "code",
   "execution_count": 192,
   "metadata": {},
   "outputs": [
    {
     "data": {
      "text/plain": [
       "LogisticRegression(C=10, class_weight=None, dual=False, fit_intercept=True,\n",
       "          intercept_scaling=1, max_iter=100, multi_class='ovr', n_jobs=1,\n",
       "          penalty='l2', random_state=None, solver='liblinear', tol=0.0001,\n",
       "          verbose=0, warm_start=False)"
      ]
     },
     "execution_count": 192,
     "metadata": {},
     "output_type": "execute_result"
    }
   ],
   "source": [
    "model.fit(X_train, y_train)"
   ]
  },
  {
   "cell_type": "code",
   "execution_count": 193,
   "metadata": {},
   "outputs": [
    {
     "data": {
      "text/plain": [
       "0.7354035070726932"
      ]
     },
     "execution_count": 193,
     "metadata": {},
     "output_type": "execute_result"
    }
   ],
   "source": [
    "ans = model.predict_proba(X_test)[:, 1]\n",
    "roc_auc_score(y_test, ans)"
   ]
  },
  {
   "cell_type": "code",
   "execution_count": null,
   "metadata": {
    "collapsed": true
   },
   "outputs": [],
   "source": []
  },
  {
   "cell_type": "code",
   "execution_count": 194,
   "metadata": {
    "collapsed": true
   },
   "outputs": [],
   "source": [
    "import catboost"
   ]
  },
  {
   "cell_type": "code",
   "execution_count": 204,
   "metadata": {
    "collapsed": true
   },
   "outputs": [],
   "source": [
    "model = catboost.CatBoostClassifier(verbose=False, thread_count=4)"
   ]
  },
  {
   "cell_type": "code",
   "execution_count": 207,
   "metadata": {
    "scrolled": false
   },
   "outputs": [
    {
     "name": "stdout",
     "output_type": "stream",
     "text": [
      "Wall time: 4min 29s\n"
     ]
    },
    {
     "data": {
      "text/plain": [
       "<catboost.core.CatBoostClassifier at 0x26c0b358>"
      ]
     },
     "execution_count": 207,
     "metadata": {},
     "output_type": "execute_result"
    }
   ],
   "source": [
    "%%time\n",
    "model.fit(X_train, y_train)"
   ]
  },
  {
   "cell_type": "code",
   "execution_count": 208,
   "metadata": {},
   "outputs": [
    {
     "data": {
      "text/plain": [
       "0.74206188923738914"
      ]
     },
     "execution_count": 208,
     "metadata": {},
     "output_type": "execute_result"
    }
   ],
   "source": [
    "ans = model.predict_proba(X_test)[:, 1]\n",
    "roc_auc_score(y_test, ans)"
   ]
  },
  {
   "cell_type": "code",
   "execution_count": null,
   "metadata": {
    "collapsed": true
   },
   "outputs": [],
   "source": []
  }
 ],
 "metadata": {
  "kernelspec": {
   "display_name": "Python 3",
   "language": "python",
   "name": "python3"
  },
  "language_info": {
   "codemirror_mode": {
    "name": "ipython",
    "version": 3
   },
   "file_extension": ".py",
   "mimetype": "text/x-python",
   "name": "python",
   "nbconvert_exporter": "python",
   "pygments_lexer": "ipython3",
   "version": "3.6.3"
  }
 },
 "nbformat": 4,
 "nbformat_minor": 2
}
